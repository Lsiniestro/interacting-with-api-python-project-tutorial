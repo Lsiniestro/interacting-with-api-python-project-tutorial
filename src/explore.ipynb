{
    "cells": [
        {
            "cell_type": "markdown",
            "metadata": {},
            "source": [
                "# Explore here"
            ]
        },
        {
            "cell_type": "code",
            "execution_count": 6,
            "metadata": {},
            "outputs": [],
            "source": [
                "import os\n",
                "import pandas as pd\n",
                "import seaborn as sns\n",
                "from dotenv import load_dotenv\n",
                "\n",
                "# load the .env file variables\n",
                "load_dotenv()\n",
                "client_id = os.environ.get(\"CLIENT_ID\")\n",
                "client_secret = os.environ.get(\"CLIENT_SECRET\")\n"
            ]
        },
        {
            "cell_type": "code",
            "execution_count": 7,
            "metadata": {},
            "outputs": [
                {
                    "name": "stdout",
                    "output_type": "stream",
                    "text": [
                        "track    : Stairway to Heaven - Remaster\n",
                        "track    : Immigrant Song - Remaster\n",
                        "track    : Whole Lotta Love - 1990 Remaster\n",
                        "track    : Black Dog - Remaster\n",
                        "track    : Rock and Roll - Remaster\n",
                        "track    : Going to California - Remaster\n",
                        "track    : Ramble On - 1990 Remaster\n",
                        "track    : Good Times Bad Times - 1993 Remaster\n",
                        "track    : Kashmir - Remaster\n",
                        "track    : Over the Hills and Far Away - Remaster\n"
                    ]
                }
            ],
            "source": [
                "import spotipy\n",
                "from spotipy.oauth2 import SpotifyClientCredentials\n",
                "\n",
                "lz_uri = 'spotify:artist:36QJpDe2go2KgaRleHCDTp'\n",
                "\n",
                "spotify = spotipy.Spotify(client_credentials_manager=SpotifyClientCredentials(client_id=client_id,client_secret=client_secret))\n",
                "results = spotify.artist_top_tracks(lz_uri)\n",
                "\n",
                "canciones=[]\n",
                "popularidad=[]\n",
                "duracion=[]\n",
                "\n",
                "\n",
                "\n",
                "for track in results['tracks'][:10]:\n",
                "    print('track    : ' + track['name'])\n",
                "    canciones.append(track['name'])\n",
                "    popularidad.append(track['popularity'])\n",
                "    duracion.append(track['duration_ms']/(1000*60)%60)\n",
                "    \n",
                "    \n"
            ]
        },
        {
            "cell_type": "code",
            "execution_count": 8,
            "metadata": {},
            "outputs": [
                {
                    "data": {
                        "text/html": [
                            "<div>\n",
                            "<style scoped>\n",
                            "    .dataframe tbody tr th:only-of-type {\n",
                            "        vertical-align: middle;\n",
                            "    }\n",
                            "\n",
                            "    .dataframe tbody tr th {\n",
                            "        vertical-align: top;\n",
                            "    }\n",
                            "\n",
                            "    .dataframe thead th {\n",
                            "        text-align: right;\n",
                            "    }\n",
                            "</style>\n",
                            "<table border=\"1\" class=\"dataframe\">\n",
                            "  <thead>\n",
                            "    <tr style=\"text-align: right;\">\n",
                            "      <th></th>\n",
                            "      <th>Canciones</th>\n",
                            "      <th>Popularidad</th>\n",
                            "      <th>Duracion</th>\n",
                            "    </tr>\n",
                            "  </thead>\n",
                            "  <tbody>\n",
                            "    <tr>\n",
                            "      <th>1</th>\n",
                            "      <td>Stairway to Heaven - Remaster</td>\n",
                            "      <td>78</td>\n",
                            "      <td>8.047167</td>\n",
                            "    </tr>\n",
                            "    <tr>\n",
                            "      <th>2</th>\n",
                            "      <td>Immigrant Song - Remaster</td>\n",
                            "      <td>78</td>\n",
                            "      <td>2.437500</td>\n",
                            "    </tr>\n",
                            "    <tr>\n",
                            "      <th>3</th>\n",
                            "      <td>Whole Lotta Love - 1990 Remaster</td>\n",
                            "      <td>75</td>\n",
                            "      <td>5.564883</td>\n",
                            "    </tr>\n",
                            "    <tr>\n",
                            "      <th>4</th>\n",
                            "      <td>Black Dog - Remaster</td>\n",
                            "      <td>72</td>\n",
                            "      <td>4.923100</td>\n",
                            "    </tr>\n",
                            "    <tr>\n",
                            "      <th>5</th>\n",
                            "      <td>Rock and Roll - Remaster</td>\n",
                            "      <td>70</td>\n",
                            "      <td>3.676000</td>\n",
                            "    </tr>\n",
                            "    <tr>\n",
                            "      <th>6</th>\n",
                            "      <td>Going to California - Remaster</td>\n",
                            "      <td>70</td>\n",
                            "      <td>3.536000</td>\n",
                            "    </tr>\n",
                            "    <tr>\n",
                            "      <th>7</th>\n",
                            "      <td>Ramble On - 1990 Remaster</td>\n",
                            "      <td>69</td>\n",
                            "      <td>4.388883</td>\n",
                            "    </tr>\n",
                            "    <tr>\n",
                            "      <th>8</th>\n",
                            "      <td>Good Times Bad Times - 1993 Remaster</td>\n",
                            "      <td>69</td>\n",
                            "      <td>2.771100</td>\n",
                            "    </tr>\n",
                            "    <tr>\n",
                            "      <th>9</th>\n",
                            "      <td>Kashmir - Remaster</td>\n",
                            "      <td>69</td>\n",
                            "      <td>8.618750</td>\n",
                            "    </tr>\n",
                            "    <tr>\n",
                            "      <th>10</th>\n",
                            "      <td>Over the Hills and Far Away - Remaster</td>\n",
                            "      <td>66</td>\n",
                            "      <td>4.848883</td>\n",
                            "    </tr>\n",
                            "  </tbody>\n",
                            "</table>\n",
                            "</div>"
                        ],
                        "text/plain": [
                            "                                 Canciones  Popularidad  Duracion\n",
                            "1            Stairway to Heaven - Remaster           78  8.047167\n",
                            "2                Immigrant Song - Remaster           78  2.437500\n",
                            "3         Whole Lotta Love - 1990 Remaster           75  5.564883\n",
                            "4                     Black Dog - Remaster           72  4.923100\n",
                            "5                 Rock and Roll - Remaster           70  3.676000\n",
                            "6           Going to California - Remaster           70  3.536000\n",
                            "7                Ramble On - 1990 Remaster           69  4.388883\n",
                            "8     Good Times Bad Times - 1993 Remaster           69  2.771100\n",
                            "9                       Kashmir - Remaster           69  8.618750\n",
                            "10  Over the Hills and Far Away - Remaster           66  4.848883"
                        ]
                    },
                    "execution_count": 8,
                    "metadata": {},
                    "output_type": "execute_result"
                }
            ],
            "source": [
                "df=pd.DataFrame()\n",
                "\n",
                "df['Canciones']=pd.DataFrame(canciones)\n",
                "df['Popularidad']=pd.DataFrame(popularidad)\n",
                "df['Duracion']=pd.DataFrame(duracion)\n",
                "df.index +=1\n",
                "\n",
                "df"
            ]
        },
        {
            "cell_type": "code",
            "execution_count": 9,
            "metadata": {},
            "outputs": [
                {
                    "data": {
                        "image/png": "[encoded data removed]",
                        "text/plain": [
                            "<Figure size 640x480 with 1 Axes>"
                        ]
                    },
                    "metadata": {},
                    "output_type": "display_data"
                }
            ],
            "source": [
                "\n",
                "scatter = sns.scatterplot(data = df, x = \"Popularidad\", y = \"Duracion\")\n",
                "fig = scatter.get_figure()\n",
                "fig.savefig(\"scatter_plot.png\")"
            ]
        },
        {
            "cell_type": "markdown",
            "metadata": {},
            "source": []
        }
    ],
    "metadata": {
        "kernelspec": {
            "display_name": "Python 3.8.13 64-bit ('3.8.13')",
            "language": "python",
            "name": "python3"
        },
        "language_info": {
            "codemirror_mode": {
                "name": "ipython",
                "version": 3
            },
            "file_extension": ".py",
            "mimetype": "text/x-python",
            "name": "python",
            "nbconvert_exporter": "python",
            "pygments_lexer": "ipython3",
            "version": "3.11.4"
        },
        "orig_nbformat": 4,
        "vscode": {
            "interpreter": {
                "hash": "110cc1dee26208153f2972f08a2ad52b6a56238dc66d48e87fb757ef2996db56"
            }
        }
    },
    "nbformat": 4,
    "nbformat_minor": 2
}
